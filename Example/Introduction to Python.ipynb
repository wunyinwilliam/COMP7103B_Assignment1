{
 "cells": [
  {
   "cell_type": "code",
   "execution_count": 1,
   "metadata": {},
   "outputs": [
    {
     "name": "stdout",
     "output_type": "stream",
     "text": [
      "[1, 2, 6, 10, 11, 17, 120]\n"
     ]
    }
   ],
   "source": [
    "def quicksort(arr):\n",
    "    if len(arr)<=1:\n",
    "        return arr\n",
    "    pivot = arr[int(len(arr) / 2)]\n",
    "    left = [x for x in arr if x < pivot]\n",
    "    middle = [x for x in arr if x == pivot]\n",
    "    right = [x for x in arr if x > pivot]\n",
    "    return quicksort(left) + middle + quicksort(right)\n",
    "\n",
    "print (quicksort ([120 ,6 ,11 ,10 ,17 ,2 ,1]))"
   ]
  },
  {
   "cell_type": "code",
   "execution_count": 2,
   "metadata": {},
   "outputs": [
    {
     "name": "stdout",
     "output_type": "stream",
     "text": [
      "<class 'int'>\n",
      "3\n",
      "4\n",
      "2\n",
      "6\n",
      "9\n",
      "4\n",
      "8\n",
      "<class 'float'>\n",
      "2.5 3.5 5.0 6.25\n"
     ]
    }
   ],
   "source": [
    "x=3\n",
    "print (type(x)) # Prints \"<type ’int’>\"\n",
    "print (x)\n",
    "# Prints \"3\"\n",
    "# Addition; prints \"4\"\n",
    "# Subtraction; prints \"2\"\n",
    "# Multiplication; prints \"6\"\n",
    "print (x + 1)\n",
    "print (x - 1)\n",
    "print (x * 2)\n",
    "print (x ** 2) # Exponentiation; prints \"9\" x += 1\n",
    "x += 1\n",
    "print (x) # Prints \"4\" \n",
    "x *= 2\n",
    "print (x) # Prints \"8\" \n",
    "y = 2.5\n",
    "print (type(y)) # Prints \"<type ’float’>\"\n",
    "print (y, y + 1, y * 2, y ** 2) # Prints \"2.5 3.5 5.0 6.25\""
   ]
  },
  {
   "cell_type": "code",
   "execution_count": 3,
   "metadata": {},
   "outputs": [
    {
     "name": "stdout",
     "output_type": "stream",
     "text": [
      "<class 'bool'>\n",
      "False\n",
      "True\n",
      "False\n",
      "True\n"
     ]
    }
   ],
   "source": [
    "t = True\n",
    "f = False\n",
    "print (type(t)) # Prints \"<type ’bool’>\" \n",
    "print (t and f) # Logical AND; prints \"False\" \n",
    "print (t or f)  # Logical OR; prints \"True\" \n",
    "print (not t)   # Logical NOT; prints \"False\" \n",
    "print (t != f)  # Logical XOR; prints \"True\""
   ]
  },
  {
   "cell_type": "code",
   "execution_count": 4,
   "metadata": {},
   "outputs": [
    {
     "name": "stdout",
     "output_type": "stream",
     "text": [
      "hello\n",
      "5\n",
      "hello world\n",
      "hello world 12\n",
      "hello world 12\n",
      "hello telecom\n",
      "6\n"
     ]
    }
   ],
   "source": [
    "hello = 'hello'\n",
    "world = \"world\"\n",
    "print (hello)\n",
    "print (len(hello)) # String length; prints \"5\"\n",
    "hw = (hello + ' ' + world) # String concatenation \n",
    "print (hw) # prints \"hello world\"\n",
    "\n",
    "# String literals can use single quotes\n",
    "# or double quotes; it does not matter.\n",
    "# Prints \"hello\"\n",
    "hw12 = '%s %s %d' % (hello, world, 12) # sprintf style string formatting \n",
    "print (hw12) # prints \"hello world 12\"\n",
    "print ('%s %s %d' % (hello, world, 12))\n",
    "\n",
    "# substring replacement\n",
    "print (hw.replace('world', 'telecom')) # prints \"hello telecom\"\n",
    "\n",
    "# find the index of \"world\"\n",
    "print (hw.index('world')) # prints \"6\""
   ]
  },
  {
   "cell_type": "code",
   "execution_count": 5,
   "metadata": {},
   "outputs": [
    {
     "name": "stdout",
     "output_type": "stream",
     "text": [
      "[3, 1, 2, 4] 2\n",
      "4\n",
      "[1, 2]\n",
      "[3, 1, 'foo', 4]\n",
      "[3, 1, 'foo', 4, 'bar']\n",
      "bar [3, 1, 'foo', 4]\n"
     ]
    }
   ],
   "source": [
    "xs = [3, 1, 2, 4]      # Create a list\n",
    "print (xs, xs[2])       # Prints \"[3, 1, 2, 4] 2\"\n",
    "print (xs[-1])           # Negative indices count from the end of\n",
    "                       # the list; prints \"4\"\n",
    "print (xs[1:3])          # Get a slice from index 1 to 3 (exclusive);\n",
    "                       # prints \"[1 , 2]\"\n",
    "\n",
    "\n",
    "xs[2] = 'foo'          # Lists can contain elements of different types\n",
    "print (xs)               # Prints \"[3, 1, ’foo’, 4]\"\n",
    "xs.append('bar')       # Add a new element to the end of the list\n",
    "print (xs)               # Prints \"[3, 1, ’foo’, 4, ’bar’]\"\n",
    "x = xs.pop()           # Remove and return the last element of the list\n",
    "print (x, xs)            # Prints \"bar [3, 1, ’foo’, 4]\""
   ]
  },
  {
   "cell_type": "code",
   "execution_count": 15,
   "metadata": {},
   "outputs": [
    {
     "name": "stdout",
     "output_type": "stream",
     "text": [
      "6\n"
     ]
    },
    {
     "ename": "TypeError",
     "evalue": "'tuple' object does not support item assignment",
     "output_type": "error",
     "traceback": [
      "\u001b[0;31m---------------------------------------------------------------------------\u001b[0m",
      "\u001b[0;31mTypeError\u001b[0m                                 Traceback (most recent call last)",
      "\u001b[0;32m<ipython-input-15-e6216ac7cdff>\u001b[0m in \u001b[0;36m<module>\u001b[0;34m\u001b[0m\n\u001b[1;32m      1\u001b[0m \u001b[0mt\u001b[0m \u001b[0;34m=\u001b[0m \u001b[0;34m(\u001b[0m\u001b[0;36m5\u001b[0m\u001b[0;34m,\u001b[0m \u001b[0;36m6\u001b[0m\u001b[0;34m)\u001b[0m \u001b[0;31m# Create a tuple\u001b[0m\u001b[0;34m\u001b[0m\u001b[0;34m\u001b[0m\u001b[0m\n\u001b[1;32m      2\u001b[0m \u001b[0mprint\u001b[0m \u001b[0;34m(\u001b[0m\u001b[0mt\u001b[0m\u001b[0;34m[\u001b[0m\u001b[0;36m1\u001b[0m\u001b[0;34m]\u001b[0m\u001b[0;34m)\u001b[0m \u001b[0;31m# Prints \"6\"\u001b[0m\u001b[0;34m\u001b[0m\u001b[0;34m\u001b[0m\u001b[0m\n\u001b[0;32m----> 3\u001b[0;31m \u001b[0mt\u001b[0m\u001b[0;34m[\u001b[0m\u001b[0;36m0\u001b[0m\u001b[0;34m]\u001b[0m \u001b[0;34m=\u001b[0m \u001b[0;36m4\u001b[0m   \u001b[0;31m# Raise an error!\u001b[0m\u001b[0;34m\u001b[0m\u001b[0;34m\u001b[0m\u001b[0m\n\u001b[0m",
      "\u001b[0;31mTypeError\u001b[0m: 'tuple' object does not support item assignment"
     ]
    }
   ],
   "source": [
    "t = (5, 6) # Create a tuple\n",
    "print (t[1]) # Prints \"6\"\n",
    "t[0] = 4   # Raise an error!"
   ]
  },
  {
   "cell_type": "code",
   "execution_count": 15,
   "metadata": {},
   "outputs": [
    {
     "name": "stdout",
     "output_type": "stream",
     "text": [
      "cute\n",
      "True\n",
      "wet\n"
     ]
    }
   ],
   "source": [
    "d = {}                              # Create an empty dictionary\n",
    "d = {'cat': 'cute', 'dog': 'furry'} # Create new dictionary\n",
    "print (d['cat'])                      # Get an entry from a dictionary; prints \"cute\"\n",
    "print ('cat' in d)                    # Check if a dictionary has a given key;\n",
    "                                    # prints \"True\"\n",
    "d['fish'] = 'wet'                   # Set an entry in a dictionary\n",
    "print (d['fish'])                     # Prints \"wet\"\n",
    "del (d['fish'])                       # Remove an element from a dictionary"
   ]
  },
  {
   "cell_type": "code",
   "execution_count": 18,
   "metadata": {},
   "outputs": [
    {
     "data": {
      "text/plain": [
       "'furry'"
      ]
     },
     "execution_count": 18,
     "metadata": {},
     "output_type": "execute_result"
    }
   ],
   "source": [
    "d = {'cat': 'cute', 'dog': 'furry'}\n",
    "d['dog']"
   ]
  },
  {
   "cell_type": "code",
   "execution_count": 3,
   "metadata": {},
   "outputs": [
    {
     "name": "stdout",
     "output_type": "stream",
     "text": [
      "cat\n",
      "fish\n",
      "fish\n",
      "3\n",
      "3\n",
      "2\n"
     ]
    }
   ],
   "source": [
    "animals = {'cat', 'dog'}\n",
    "print ('cat') in animals   # Check if an element is in a set; prints \"True\" \n",
    "print ('fish') in animals  # prints \"False\"\n",
    "animals.add('fish')      # Add an element to a set\n",
    "print ('fish') in animals  # Prints \"True\"\n",
    "print (len(animals))       # Number of elements in a set; prints \"3\"\n",
    "animals.add('cat')       # Adding an element that is already in the set doe\n",
    "print (len(animals))       # Prints \"3\"\n",
    "animals.remove('cat')    # Remove an element from a set\n",
    "print (len(animals))       # Prints \"2\"\n"
   ]
  },
  {
   "cell_type": "code",
   "execution_count": 2,
   "metadata": {},
   "outputs": [
    {
     "name": "stdout",
     "output_type": "stream",
     "text": [
      "5<=x<10\n"
     ]
    }
   ],
   "source": [
    "x=5\n",
    "if x < 5:\n",
    "    print ('x < 5')\n",
    "elif x < 10: # abbr. for else if\n",
    "    print ('5<=x<10')\n",
    "else:\n",
    "    print ('x>=10')\n",
    "# Prints ’5 <= x < 10’\n",
    "  "
   ]
  },
  {
   "cell_type": "code",
   "execution_count": 14,
   "metadata": {},
   "outputs": [
    {
     "name": "stdout",
     "output_type": "stream",
     "text": [
      "the sum is 5050\n"
     ]
    }
   ],
   "source": [
    "sum = 0\n",
    "for i in range(1, 101): # generate a sequence of [1, 100]\n",
    "    sum += i #observe the indentation\n",
    "print ('the sum is '+ str(sum)) # Prints the sum is 5050"
   ]
  },
  {
   "cell_type": "code",
   "execution_count": 27,
   "metadata": {},
   "outputs": [
    {
     "ename": "SyntaxError",
     "evalue": "Missing parentheses in call to 'print'. Did you mean print('the sum is %d' % sum #Raises an error, this is Python 2!)? (<ipython-input-27-08492ef9094e>, line 1)",
     "output_type": "error",
     "traceback": [
      "\u001b[0;36m  File \u001b[0;32m\"<ipython-input-27-08492ef9094e>\"\u001b[0;36m, line \u001b[0;32m1\u001b[0m\n\u001b[0;31m    print 'the sum is %d' % sum #Raises an error, this is Python 2!\u001b[0m\n\u001b[0m                        ^\u001b[0m\n\u001b[0;31mSyntaxError\u001b[0m\u001b[0;31m:\u001b[0m Missing parentheses in call to 'print'. Did you mean print('the sum is %d' % sum #Raises an error, this is Python 2!)?\n"
     ]
    }
   ],
   "source": [
    "print 'the sum is %d' % sum #Raises an error, this is Python 2!\n"
   ]
  },
  {
   "cell_type": "code",
   "execution_count": 36,
   "metadata": {},
   "outputs": [
    {
     "name": "stdout",
     "output_type": "stream",
     "text": [
      "the sum is 50\n"
     ]
    }
   ],
   "source": [
    "sum=50\n",
    "print ('the sum is %d' % sum)"
   ]
  },
  {
   "cell_type": "code",
   "execution_count": 10,
   "metadata": {},
   "outputs": [
    {
     "name": "stdout",
     "output_type": "stream",
     "text": [
      "the sum of the first 100 numbers is 5050 years old\n"
     ]
    }
   ],
   "source": [
    "print(\"the sum of the first {i} numbers is {sum} years old\".format(i=i, sum=sum))"
   ]
  },
  {
   "cell_type": "code",
   "execution_count": 30,
   "metadata": {},
   "outputs": [
    {
     "name": "stdout",
     "output_type": "stream",
     "text": [
      "the sum of the first 8 numbers is 36\n"
     ]
    }
   ],
   "source": [
    "print(f\"the sum of the first {i-1} numbers is {sum-i}\") #f new feature of Python 3"
   ]
  },
  {
   "cell_type": "code",
   "execution_count": 19,
   "metadata": {},
   "outputs": [
    {
     "name": "stdout",
     "output_type": "stream",
     "text": [
      "also works with float numbers like 2.5!\n"
     ]
    }
   ],
   "source": [
    "a=5/2\n",
    "print (f\"also works with float numbers like {a}!\")"
   ]
  },
  {
   "cell_type": "code",
   "execution_count": 23,
   "metadata": {},
   "outputs": [
    {
     "name": "stdout",
     "output_type": "stream",
     "text": [
      "cat\n",
      "dog\n",
      "monkey\n",
      "A person has 2 legs\n",
      "A cat has 4 legs\n",
      "A spider has 8 legs\n"
     ]
    }
   ],
   "source": [
    "animals = ['cat', 'dog', 'monkey']\n",
    "for animal in animals:\n",
    "    print (animal)\n",
    "# Prints \"cat\", \"dog\", \"monkey\", each on its own line.\n",
    "d = {'person': 2, 'cat': 4, 'spider': 8}\n",
    "for animal in d:\n",
    "    legs = d[animal]\n",
    "    print (f'A {animal} has {legs} legs') #observe indentation\n",
    "# Prints \"A person has 2 legs\", \"A spider has 8 legs\"; # \"A cat has 4 legs\"\n",
    " "
   ]
  },
  {
   "cell_type": "code",
   "execution_count": 27,
   "metadata": {},
   "outputs": [
    {
     "name": "stdout",
     "output_type": "stream",
     "text": [
      "Hello, Bob\n",
      "Hello, FRED!\n"
     ]
    }
   ],
   "source": [
    "def hello(name, loud=False):\n",
    "    if loud:\n",
    "        print (f'Hello, {name.upper()}!')\n",
    "    else:\n",
    "        print (f'Hello, {name}')\n",
    "        \n",
    "hello('Bob') # Prints \"Hello, Bob\"\n",
    "hello('Fred', loud=True) # Prints \"HELLO, FRED!\""
   ]
  },
  {
   "cell_type": "code",
   "execution_count": 43,
   "metadata": {},
   "outputs": [
    {
     "name": "stdout",
     "output_type": "stream",
     "text": [
      "<_io.TextIOWrapper name='workfile' mode='w' encoding='UTF-8'>\n",
      "1 2\n",
      "\n",
      "u 1, v 2\n",
      "3 4\n",
      "\n",
      "u 3, v 4\n"
     ]
    }
   ],
   "source": [
    "f = open('workfile', 'w')\n",
    "print (f)\n",
    "#Prints <_io.TextIOWrapper name='workfile' mode='w' encoding='UTF-8'>\n",
    "\n",
    "f.write(\"1 2\\n\")\n",
    "f.write(\"3 4\\n\")\n",
    "#the following also works\n",
    "#a=3\n",
    "#b=4\n",
    "#f.write(f\"{a} {b}\\n\")\n",
    "\n",
    "f.close()\n",
    "\n",
    "f = open('workfile', 'r')\n",
    "for line in f:\n",
    "    print (line)\n",
    "    u,v = [ int(x) for x in line.split() ]\n",
    "    print (f\"u {u}, v {v}\")\n",
    "f.close()"
   ]
  },
  {
   "cell_type": "code",
   "execution_count": 44,
   "metadata": {},
   "outputs": [
    {
     "name": "stdout",
     "output_type": "stream",
     "text": [
      "[0, 1, 4, 9, 16]\n"
     ]
    }
   ],
   "source": [
    "nums = [0, 1, 2, 3, 4]\n",
    "squares = []\n",
    "for x in nums:\n",
    "\tsquares.append(x ** 2)\n",
    "print (squares) # Prints [0, 1, 4, 9, 16]"
   ]
  },
  {
   "cell_type": "code",
   "execution_count": 45,
   "metadata": {},
   "outputs": [
    {
     "name": "stdout",
     "output_type": "stream",
     "text": [
      "[0, 1, 4, 9, 16]\n"
     ]
    }
   ],
   "source": [
    "nums = [0, 1, 2, 3, 4]\n",
    "squares = [x ** 2 for x in nums]\n",
    "print (squares) # Prints [0, 1, 4, 9, 16]"
   ]
  },
  {
   "cell_type": "code",
   "execution_count": 46,
   "metadata": {},
   "outputs": [
    {
     "name": "stdout",
     "output_type": "stream",
     "text": [
      "[0, 4, 16]\n"
     ]
    }
   ],
   "source": [
    "nums = [0, 1, 2, 3, 4]\n",
    "even_squares = [x ** 2 for x in nums if x % 2 == 0]\n",
    "print (even_squares) # Prints \"[0, 4, 16]\""
   ]
  },
  {
   "cell_type": "code",
   "execution_count": 1,
   "metadata": {},
   "outputs": [
    {
     "name": "stdout",
     "output_type": "stream",
     "text": [
      "Hello, Fred\n",
      "HELLO, FRED!\n"
     ]
    }
   ],
   "source": [
    "class Greeter(object):\n",
    "    # Constructor\n",
    "\tdef __init__(self, name):\n",
    "\t\tself.name = name # Create an instance variable\n",
    "    \n",
    "\t# Instance method\n",
    "\tdef greet(self, loud=False):\n",
    "\t\tif loud:\n",
    "\t\t\tprint (f\"HELLO, {self.name.upper()}!\")\n",
    "\t\telse:\n",
    "\t\t\tprint (f\"Hello, {self.name}\")\n",
    "\n",
    "g = Greeter('Fred') # Construct an instance of the Greeter class\n",
    "g.greet()\n",
    "g.greet(loud=True)\n",
    "# Call an instance method; prints \"Hello, Fred\"\n",
    "# Call an instance method; prints \"HELLO, FRED!\""
   ]
  },
  {
   "cell_type": "code",
   "execution_count": null,
   "metadata": {},
   "outputs": [],
   "source": []
  }
 ],
 "metadata": {
  "kernelspec": {
   "display_name": "Python 3 (ipykernel)",
   "language": "python",
   "name": "python3"
  },
  "language_info": {
   "codemirror_mode": {
    "name": "ipython",
    "version": 3
   },
   "file_extension": ".py",
   "mimetype": "text/x-python",
   "name": "python",
   "nbconvert_exporter": "python",
   "pygments_lexer": "ipython3",
   "version": "3.9.12"
  }
 },
 "nbformat": 4,
 "nbformat_minor": 2
}
