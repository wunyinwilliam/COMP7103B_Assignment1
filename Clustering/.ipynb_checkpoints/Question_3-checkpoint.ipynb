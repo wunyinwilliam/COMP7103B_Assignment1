{
 "cells": [
  {
   "cell_type": "markdown",
   "id": "38ca6fa2",
   "metadata": {},
   "source": [
    "# Question 1"
   ]
  },
  {
   "cell_type": "code",
   "execution_count": 111,
   "id": "dc5d5619",
   "metadata": {},
   "outputs": [],
   "source": [
    "import pandas as pd\n",
    "from sklearn.cluster import KMeans\n",
    "import matplotlib.pyplot as plt"
   ]
  },
  {
   "cell_type": "code",
   "execution_count": 112,
   "id": "add603aa",
   "metadata": {},
   "outputs": [],
   "source": [
    "data = pd.read_csv('clustering_data.csv', index_col=0)"
   ]
  },
  {
   "cell_type": "markdown",
   "id": "5596adfe",
   "metadata": {},
   "source": [
    "Default number of clusters: 8 <br>\n",
    "Method for initialization 'random’: choose 8 observations (rows) at random from data for the initial centroids"
   ]
  },
  {
   "cell_type": "code",
   "execution_count": 113,
   "id": "67cbc780",
   "metadata": {},
   "outputs": [],
   "source": [
    "kmeans = KMeans(init='random').fit(data)"
   ]
  },
  {
   "cell_type": "markdown",
   "id": "abb8755c",
   "metadata": {},
   "source": [
    "inertia_: Sum of squared distances (SSE) of samples to their closest cluster center, weighted by the sample weights if provided"
   ]
  },
  {
   "cell_type": "code",
   "execution_count": 114,
   "id": "3c84a448",
   "metadata": {},
   "outputs": [
    {
     "name": "stdout",
     "output_type": "stream",
     "text": [
      "SSE: 1687.9262040770207\n"
     ]
    }
   ],
   "source": [
    "sse = kmeans.inertia_\n",
    "print(\"SSE:\", sse)"
   ]
  },
  {
   "cell_type": "markdown",
   "id": "860fad4e",
   "metadata": {},
   "source": [
    "# Question 2"
   ]
  },
  {
   "cell_type": "code",
   "execution_count": 115,
   "id": "76fedc48",
   "metadata": {},
   "outputs": [],
   "source": [
    "kmeans_improved = KMeans(\n",
    "    n_clusters=8,\n",
    "    init='k-means++',\n",
    "    max_iter=4, \n",
    "    tol=0.0001, \n",
    "    verbose=0, \n",
    "    random_state=None, \n",
    "    copy_x=True, \n",
    "#     algorithm='lloyd'\n",
    ").fit(data)"
   ]
  },
  {
   "cell_type": "code",
   "execution_count": 116,
   "id": "80c72aca",
   "metadata": {},
   "outputs": [
    {
     "name": "stdout",
     "output_type": "stream",
     "text": [
      "Improved SSE: 1536.6983267018109\n"
     ]
    }
   ],
   "source": [
    "sse_improved = kmeans_improved.inertia_\n",
    "print(\"Improved SSE:\", sse_improved)"
   ]
  },
  {
   "cell_type": "code",
   "execution_count": 117,
   "id": "5485bb33",
   "metadata": {},
   "outputs": [
    {
     "data": {
      "text/plain": [
       "3"
      ]
     },
     "execution_count": 117,
     "metadata": {},
     "output_type": "execute_result"
    }
   ],
   "source": [
    "kmeans_improved.n_iter_"
   ]
  },
  {
   "cell_type": "markdown",
   "id": "5022b3bb",
   "metadata": {},
   "source": [
    "Number of Iterations (max_iter):<br><br>\n",
    "a) Expected impact: The max_iter parameter controls the maximum number of iterations the K-means algorithm will perform to converge. Increasing the value of max_iter allows the algorithm to run for more iterations, potentially leading to better convergence and lower SSE.<br><br>\n",
    "b) Impact on results: Increasing the value of max_iter may improve the results, but it does not necessarily guarantee better results. There is a point of diminishing returns where further increasing max_iter does not significantly improve the SSE."
   ]
  },
  {
   "cell_type": "markdown",
   "id": "5db26fdb",
   "metadata": {},
   "source": [
    "Number of Initializations (n_init):<br><br>\n",
    "a) Expected impact: The n_init parameter controls the number of times the K-means algorithm will be run with different centroid seeds. Each initialization starts from a different set of initial centroids, allowing the algorithm to explore different solutions. Increasing the value of n_init increases the chances of finding better overall clustering results and reducing the SSE.<br><br>\n",
    "b) Impact on results: Increasing the value of n_init generally improves the results as it increases the likelihood of finding a better clustering solution. However, the improvement diminishes as n_init becomes excessively large.\n"
   ]
  },
  {
   "cell_type": "markdown",
   "id": "9f6e732d",
   "metadata": {},
   "source": [
    "# Question 3"
   ]
  },
  {
   "cell_type": "code",
   "execution_count": 118,
   "id": "09981b5c",
   "metadata": {},
   "outputs": [],
   "source": [
    "clusters = kmeans_improved.labels_\n",
    "stockNames = data.index"
   ]
  },
  {
   "cell_type": "code",
   "execution_count": 119,
   "id": "01add6c8",
   "metadata": {},
   "outputs": [],
   "source": [
    "table_data = {'Clusters': clusters, 'Stock Names': stockNames}\n",
    "table_df = pd.DataFrame(table_data)"
   ]
  },
  {
   "cell_type": "code",
   "execution_count": 120,
   "id": "1c9eee78",
   "metadata": {},
   "outputs": [],
   "source": [
    "# Group the data by Clusters\n",
    "grouped_data = table_df.groupby('Clusters')['Stock Names'].apply(list)\n",
    "\n",
    "# Create the final table\n",
    "display_table = pd.DataFrame({'Clusters': grouped_data.index, 'Stock Names': grouped_data.values})\n",
    "\n",
    "# Set the maximum column width to 0 will prevent any wrapping of the column content\n",
    "pd.set_option('display.max_colwidth', 0)"
   ]
  },
  {
   "cell_type": "code",
   "execution_count": 122,
   "id": "ef4d2aed",
   "metadata": {},
   "outputs": [
    {
     "name": "stdout",
     "output_type": "stream",
     "text": [
      "   Clusters                                                                                                      Stock Names\n",
      "0  0         [Hewlett-Packard]                                                                                              \n",
      "1  1         [IBM, The Home Depot, Intel, Wal-Mart, General Electric, United Technologies, Travelers, 3M, Johnson & Johnson]\n",
      "2  2         [DuPont, Caterpillar, Alcoa]                                                                                   \n",
      "3  3         [American Express, Boeing, Microsoft, Walt Disney]                                                             \n",
      "4  4         [Bank of America]                                                                                              \n",
      "5  5         [Chevron, Pfizer, ExxonMobil, JPMorgan Chase]                                                                  \n",
      "6  6         [Cisco Systems]                                                                                                \n",
      "7  7         [Kraft, Verizon, Procter & Gamble, AT&T, Merck, McDonalds, Coca-Cola]                                          \n"
     ]
    }
   ],
   "source": [
    "print(display_table)"
   ]
  },
  {
   "cell_type": "markdown",
   "id": "5a7b4201",
   "metadata": {},
   "source": [
    "Cluster 1: Technology<br>\n",
    "Cluster 2: Process Industries<br>\n",
    "Cluster 7: Consumers"
   ]
  }
 ],
 "metadata": {
  "kernelspec": {
   "display_name": "Python 3 (ipykernel)",
   "language": "python",
   "name": "python3"
  },
  "language_info": {
   "codemirror_mode": {
    "name": "ipython",
    "version": 3
   },
   "file_extension": ".py",
   "mimetype": "text/x-python",
   "name": "python",
   "nbconvert_exporter": "python",
   "pygments_lexer": "ipython3",
   "version": "3.9.12"
  }
 },
 "nbformat": 4,
 "nbformat_minor": 5
}
