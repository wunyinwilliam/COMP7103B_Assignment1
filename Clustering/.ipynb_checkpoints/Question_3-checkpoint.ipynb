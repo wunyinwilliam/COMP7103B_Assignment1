{
 "cells": [
  {
   "cell_type": "markdown",
   "id": "38ca6fa2",
   "metadata": {},
   "source": [
    "# Question 1"
   ]
  },
  {
   "cell_type": "markdown",
   "id": "190aef0f",
   "metadata": {},
   "source": [
    "You  should  run  the  k-means  algorithm  on  the  stock  data,  while  using init=’random’ and the default values for the other parameters.  Compute the sum of squared errors (SSE) for the clustering you obtained and include it in your report."
   ]
  },
  {
   "cell_type": "code",
   "execution_count": 3,
   "id": "dc5d5619",
   "metadata": {},
   "outputs": [],
   "source": [
    "import pandas as pd\n",
    "from sklearn.cluster import KMeans\n",
    "import matplotlib.pyplot as plt"
   ]
  },
  {
   "cell_type": "code",
   "execution_count": 4,
   "id": "add603aa",
   "metadata": {},
   "outputs": [],
   "source": [
    "data = pd.read_csv('clustering_data.csv', index_col=0)"
   ]
  },
  {
   "cell_type": "markdown",
   "id": "5596adfe",
   "metadata": {},
   "source": [
    "Default number of clusters: 8 <br>\n",
    "Method for initialization 'random’: choose 8 observations (rows) at random from data for the initial centroids"
   ]
  },
  {
   "cell_type": "code",
   "execution_count": 5,
   "id": "67cbc780",
   "metadata": {},
   "outputs": [],
   "source": [
    "kmeans = KMeans(init='random').fit(data)"
   ]
  },
  {
   "cell_type": "markdown",
   "id": "abb8755c",
   "metadata": {},
   "source": [
    "inertia_: Sum of squared distances (SSE) of samples to their closest cluster center, weighted by the sample weights if provided"
   ]
  },
  {
   "cell_type": "code",
   "execution_count": 6,
   "id": "3c84a448",
   "metadata": {},
   "outputs": [
    {
     "name": "stdout",
     "output_type": "stream",
     "text": [
      "SSE: 1775.8271945588956\n"
     ]
    }
   ],
   "source": [
    "sse = kmeans.inertia_\n",
    "print(\"SSE:\", sse)"
   ]
  },
  {
   "cell_type": "markdown",
   "id": "860fad4e",
   "metadata": {},
   "source": [
    "# Question 2"
   ]
  },
  {
   "cell_type": "markdown",
   "id": "a625b2e2",
   "metadata": {},
   "source": [
    "You should then try to decrease the SSE as much as possible (while keeping k=8) by changing some of the parameters accordingly.  To this end, select two parameters that you think should impact the results the most.<br>\n",
    "For each parameter explain:<br>\n",
    "a) how you expect that changing that parameter would affect the results (increasing its value means better or worse results?<br>\n",
    "b) whether increasing or decreasing the value of the parameter should always improve the results or not necessarily."
   ]
  },
  {
   "cell_type": "markdown",
   "id": "656839b6",
   "metadata": {},
   "source": [
    "max_iter: int, default=300<br>\n",
    "Maximum number of iterations of the k-means algorithm for a single run."
   ]
  },
  {
   "cell_type": "code",
   "execution_count": 7,
   "id": "dd0205b1",
   "metadata": {},
   "outputs": [],
   "source": [
    "kmeans_max_10000 = KMeans(\n",
    "    init='random', \n",
    "    max_iter=1000, \n",
    ").fit(data)"
   ]
  },
  {
   "cell_type": "code",
   "execution_count": 8,
   "id": "80c72aca",
   "metadata": {},
   "outputs": [
    {
     "name": "stdout",
     "output_type": "stream",
     "text": [
      "SSE (max_iter=10000): 1716.1946463122863\n"
     ]
    }
   ],
   "source": [
    "sse_max_10000 = kmeans_max_10000.inertia_\n",
    "print(\"SSE (max_iter=10000):\", sse_max_10000)"
   ]
  },
  {
   "cell_type": "markdown",
   "id": "5022b3bb",
   "metadata": {},
   "source": [
    "Number of Iterations (max_iter):<br><br>\n",
    "a) Expected impact: The max_iter parameter controls the maximum number of iterations the K-means algorithm will perform to converge. Increasing the value of max_iter allows the algorithm to run for more iterations, potentially leading to better convergence and lower SSE.<br><br>\n",
    "b) Impact on results: Increasing the value of max_iter may improve the results, but it does not necessarily guarantee better results. There is a point of diminishing returns where further increasing max_iter does not significantly improve the SSE."
   ]
  },
  {
   "cell_type": "markdown",
   "id": "a5770b13",
   "metadata": {},
   "source": [
    "When n_init='auto', the number of runs depends on the value of init:<br>\n",
    "10 if using init='random' or init is a callable;<br>\n",
    "1 if using init='k-means++' or init is an array-like"
   ]
  },
  {
   "cell_type": "code",
   "execution_count": 9,
   "id": "2ef10cf9",
   "metadata": {},
   "outputs": [],
   "source": [
    "kmeans_init_100 = KMeans(\n",
    "    init='random', \n",
    "    n_init=100,\n",
    ").fit(data)"
   ]
  },
  {
   "cell_type": "code",
   "execution_count": 10,
   "id": "ff0084ca",
   "metadata": {},
   "outputs": [
    {
     "name": "stdout",
     "output_type": "stream",
     "text": [
      "SSE (n_init=100): 1600.1838904567821\n"
     ]
    }
   ],
   "source": [
    "sse_init_100 = kmeans_init_100.inertia_\n",
    "print(\"SSE (n_init=100):\", sse_init_100)"
   ]
  },
  {
   "cell_type": "markdown",
   "id": "5db26fdb",
   "metadata": {},
   "source": [
    "Number of Initializations (n_init):<br><br>\n",
    "a) Expected impact: The n_init parameter controls the number of times the K-means algorithm will be run with different centroid seeds. Each initialization starts from a different set of initial centroids, allowing the algorithm to explore different solutions. Increasing the value of n_init increases the chances of finding better overall clustering results and reducing the SSE.<br><br>\n",
    "b) Impact on results: Increasing the value of n_init generally improves the results as it increases the likelihood of finding a better clustering solution. However, the improvement diminishes as n_init becomes excessively large.\n"
   ]
  },
  {
   "cell_type": "markdown",
   "id": "9f6e732d",
   "metadata": {},
   "source": [
    "# Question 3"
   ]
  },
  {
   "cell_type": "markdown",
   "id": "4f82f0ad",
   "metadata": {},
   "source": [
    "Then  look  at  the  clustering  you  obtained  and  try  to  label  each  clusterwith a topic.  For example:  cluster of technology stocks,  oil stocks,  etc. Don’t expect your clustering to be perfect.  In particular, you might have different kinds of stocks in a given cluster,  while you might not be able to label all clusters.  We expect that you should be able to label at least three clusters with a topic. It is fine to describe a cluster as a technology cluster if most of the stocks deal with technology, for example. Explain your answers."
   ]
  },
  {
   "cell_type": "code",
   "execution_count": 11,
   "id": "e62d78ef",
   "metadata": {},
   "outputs": [],
   "source": [
    "kmeans_improved = KMeans(\n",
    "    init='random', \n",
    "    n_init=100,\n",
    "    max_iter=10000\n",
    ").fit(data)"
   ]
  },
  {
   "cell_type": "code",
   "execution_count": 12,
   "id": "09981b5c",
   "metadata": {},
   "outputs": [],
   "source": [
    "clusters = kmeans_improved.labels_\n",
    "stockNames = data.index"
   ]
  },
  {
   "cell_type": "code",
   "execution_count": 13,
   "id": "01add6c8",
   "metadata": {},
   "outputs": [],
   "source": [
    "table_data = {'Clusters': clusters, 'Stock Names': stockNames}\n",
    "table_df = pd.DataFrame(table_data)"
   ]
  },
  {
   "cell_type": "code",
   "execution_count": 14,
   "id": "1c9eee78",
   "metadata": {},
   "outputs": [],
   "source": [
    "# Group the data by Clusters\n",
    "grouped_data = table_df.groupby('Clusters')['Stock Names'].apply(list)\n",
    "\n",
    "# Create the final table\n",
    "display_table = pd.DataFrame({'Stock Names': grouped_data.values})\n",
    "\n",
    "# Set the maximum column width to 0 will prevent any wrapping of the column content\n",
    "pd.set_option('display.max_colwidth', 0)"
   ]
  },
  {
   "cell_type": "code",
   "execution_count": 15,
   "id": "ef4d2aed",
   "metadata": {},
   "outputs": [
    {
     "name": "stdout",
     "output_type": "stream",
     "text": [
      "                                                                                                                               Stock Names\n",
      "0  [Cisco Systems]                                                                                                                        \n",
      "1  [Chevron, ExxonMobil, JPMorgan Chase]                                                                                                  \n",
      "2  [Kraft, Procter & Gamble, AT&T, McDonalds, Coca-Cola]                                                                                  \n",
      "3  [Hewlett-Packard]                                                                                                                      \n",
      "4  [Intel, Merck, Johnson & Johnson]                                                                                                      \n",
      "5  [American Express, Boeing, Microsoft, IBM, The Home Depot, Walt Disney, Wal-Mart, General Electric, United Technologies, Travelers, 3M]\n",
      "6  [Bank of America]                                                                                                                      \n",
      "7  [DuPont, Caterpillar, Verizon, Alcoa, Pfizer]                                                                                          \n"
     ]
    }
   ],
   "source": [
    "print(display_table)"
   ]
  },
  {
   "cell_type": "markdown",
   "id": "5a7b4201",
   "metadata": {},
   "source": [
    "Cluster 1: Oil Stocks <br>\n",
    "Both Chevron and ExxonMobil are in Integrated Oil industry.<br><br>\n",
    "Cluster 2: Consumers <br>\n",
    "Kraft, Procter & Gamble, AT&T, McDonalds and Coca-Cola are Consumer Products / Services.<br><br>\n",
    "Cluster 4: Technology <br>\n",
    "Microsoft is technology company. March and Johnson & Johnson are related to Health Technology."
   ]
  }
 ],
 "metadata": {
  "kernelspec": {
   "display_name": "Python 3 (ipykernel)",
   "language": "python",
   "name": "python3"
  },
  "language_info": {
   "codemirror_mode": {
    "name": "ipython",
    "version": 3
   },
   "file_extension": ".py",
   "mimetype": "text/x-python",
   "name": "python",
   "nbconvert_exporter": "python",
   "pygments_lexer": "ipython3",
   "version": "3.9.12"
  }
 },
 "nbformat": 4,
 "nbformat_minor": 5
}
